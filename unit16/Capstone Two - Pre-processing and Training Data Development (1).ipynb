{
 "cells": [
  {
   "cell_type": "markdown",
   "metadata": {},
   "source": [
    "This notebook contains the work for Step 4 of the Data Science Method:"
   ]
  },
  {
   "cell_type": "markdown",
   "metadata": {},
   "source": [
    "The Data Science Method"
   ]
  },
  {
   "cell_type": "markdown",
   "metadata": {},
   "source": [
    "   1.Problem Identification\n",
    "\n",
    "   2.Data Wrangling"
   ]
  },
  {
   "cell_type": "markdown",
   "metadata": {},
   "source": [
    "     \n",
    "   . Data Collection\n",
    "   \n",
    "   . Data Organization\n",
    "   \n",
    "   . Data Definition\n",
    "   \n",
    "   . Data Cleaning\n"
   ]
  },
  {
   "cell_type": "markdown",
   "metadata": {},
   "source": [
    "3.Exploratory Data Analysis"
   ]
  },
  {
   "cell_type": "markdown",
   "metadata": {},
   "source": [
    "    .Build data profile tables and plots\n",
    "\n",
    "    .Outliers & Anomalies\n",
    "\n",
    "    .Explore data relationships\n",
    "    \n",
    "    .Identification and creation of features"
   ]
  },
  {
   "cell_type": "markdown",
   "metadata": {},
   "source": [
    "4.Pre-processing and Training Data Development"
   ]
  },
  {
   "cell_type": "markdown",
   "metadata": {},
   "source": [
    "\n",
    "    . Create dummy or indicator features for categorical variables\n",
    "    \n",
    "    . Standardize the magnitude of numeric features\n",
    "    \n",
    "    . Split into testing and training datasets\n",
    "    \n",
    "    . Apply scaler to the testing set\n"
   ]
  },
  {
   "cell_type": "markdown",
   "metadata": {},
   "source": [
    "5.Modeling"
   ]
  },
  {
   "cell_type": "markdown",
   "metadata": {},
   "source": [
    "\n",
    "    .Fit Models with Training Data Set\n",
    "    \n",
    "    .Review Model Outcomes — Iterate over additional models as needed\n",
    "    \n",
    "    .Identify the Final Model\n"
   ]
  },
  {
   "cell_type": "markdown",
   "metadata": {},
   "source": [
    "6.Documentation"
   ]
  },
  {
   "cell_type": "markdown",
   "metadata": {},
   "source": [
    "\n",
    "    .Review the Results\n",
    "    \n",
    "    .Present and share your findings - storytelling\n",
    "    \n",
    "    .Finalize Code\n",
    "    \n",
    "    .Finalize Documentation\n"
   ]
  },
  {
   "cell_type": "code",
   "execution_count": 44,
   "metadata": {},
   "outputs": [],
   "source": [
    "#load python packages\n",
    "import os\n",
    "import pandas as pd\n",
    "import datetime\n",
    "import seaborn as sns\n",
    "import matplotlib.pyplot as plt\n",
    "import numpy as np\n",
    "%matplotlib inline\n",
    "from scipy.stats import chi2_contingency\n",
    "from sklearn.preprocessing import StandardScaler\n",
    "from sklearn.model_selection import train_test_split"
   ]
  },
  {
   "cell_type": "code",
   "execution_count": 45,
   "metadata": {},
   "outputs": [],
   "source": [
    "# set options\n",
    "pd.set_option('display.max_rows', 1500)"
   ]
  },
  {
   "cell_type": "code",
   "execution_count": 46,
   "metadata": {},
   "outputs": [
    {
     "data": {
      "text/html": [
       "<div>\n",
       "<style scoped>\n",
       "    .dataframe tbody tr th:only-of-type {\n",
       "        vertical-align: middle;\n",
       "    }\n",
       "\n",
       "    .dataframe tbody tr th {\n",
       "        vertical-align: top;\n",
       "    }\n",
       "\n",
       "    .dataframe thead th {\n",
       "        text-align: right;\n",
       "    }\n",
       "</style>\n",
       "<table border=\"1\" class=\"dataframe\">\n",
       "  <thead>\n",
       "    <tr style=\"text-align: right;\">\n",
       "      <th></th>\n",
       "      <th>Time</th>\n",
       "      <th>V1</th>\n",
       "      <th>V2</th>\n",
       "      <th>V3</th>\n",
       "      <th>V4</th>\n",
       "      <th>V5</th>\n",
       "      <th>V6</th>\n",
       "      <th>V7</th>\n",
       "      <th>V8</th>\n",
       "      <th>V9</th>\n",
       "      <th>...</th>\n",
       "      <th>V21</th>\n",
       "      <th>V22</th>\n",
       "      <th>V23</th>\n",
       "      <th>V24</th>\n",
       "      <th>V25</th>\n",
       "      <th>V26</th>\n",
       "      <th>V27</th>\n",
       "      <th>V28</th>\n",
       "      <th>Amount</th>\n",
       "      <th>Class</th>\n",
       "    </tr>\n",
       "  </thead>\n",
       "  <tbody>\n",
       "    <tr>\n",
       "      <th>0</th>\n",
       "      <td>0.0</td>\n",
       "      <td>-1.359807</td>\n",
       "      <td>-0.072781</td>\n",
       "      <td>2.536347</td>\n",
       "      <td>1.378155</td>\n",
       "      <td>-0.338321</td>\n",
       "      <td>0.462388</td>\n",
       "      <td>0.239599</td>\n",
       "      <td>0.098698</td>\n",
       "      <td>0.363787</td>\n",
       "      <td>...</td>\n",
       "      <td>-0.018307</td>\n",
       "      <td>0.277838</td>\n",
       "      <td>-0.110474</td>\n",
       "      <td>0.066928</td>\n",
       "      <td>0.128539</td>\n",
       "      <td>-0.189115</td>\n",
       "      <td>0.133558</td>\n",
       "      <td>-0.021053</td>\n",
       "      <td>149.62</td>\n",
       "      <td>0</td>\n",
       "    </tr>\n",
       "    <tr>\n",
       "      <th>1</th>\n",
       "      <td>0.0</td>\n",
       "      <td>1.191857</td>\n",
       "      <td>0.266151</td>\n",
       "      <td>0.166480</td>\n",
       "      <td>0.448154</td>\n",
       "      <td>0.060018</td>\n",
       "      <td>-0.082361</td>\n",
       "      <td>-0.078803</td>\n",
       "      <td>0.085102</td>\n",
       "      <td>-0.255425</td>\n",
       "      <td>...</td>\n",
       "      <td>-0.225775</td>\n",
       "      <td>-0.638672</td>\n",
       "      <td>0.101288</td>\n",
       "      <td>-0.339846</td>\n",
       "      <td>0.167170</td>\n",
       "      <td>0.125895</td>\n",
       "      <td>-0.008983</td>\n",
       "      <td>0.014724</td>\n",
       "      <td>2.69</td>\n",
       "      <td>0</td>\n",
       "    </tr>\n",
       "    <tr>\n",
       "      <th>2</th>\n",
       "      <td>1.0</td>\n",
       "      <td>-1.358354</td>\n",
       "      <td>-1.340163</td>\n",
       "      <td>1.773209</td>\n",
       "      <td>0.379780</td>\n",
       "      <td>-0.503198</td>\n",
       "      <td>1.800499</td>\n",
       "      <td>0.791461</td>\n",
       "      <td>0.247676</td>\n",
       "      <td>-1.514654</td>\n",
       "      <td>...</td>\n",
       "      <td>0.247998</td>\n",
       "      <td>0.771679</td>\n",
       "      <td>0.909412</td>\n",
       "      <td>-0.689281</td>\n",
       "      <td>-0.327642</td>\n",
       "      <td>-0.139097</td>\n",
       "      <td>-0.055353</td>\n",
       "      <td>-0.059752</td>\n",
       "      <td>378.66</td>\n",
       "      <td>0</td>\n",
       "    </tr>\n",
       "    <tr>\n",
       "      <th>3</th>\n",
       "      <td>1.0</td>\n",
       "      <td>-0.966272</td>\n",
       "      <td>-0.185226</td>\n",
       "      <td>1.792993</td>\n",
       "      <td>-0.863291</td>\n",
       "      <td>-0.010309</td>\n",
       "      <td>1.247203</td>\n",
       "      <td>0.237609</td>\n",
       "      <td>0.377436</td>\n",
       "      <td>-1.387024</td>\n",
       "      <td>...</td>\n",
       "      <td>-0.108300</td>\n",
       "      <td>0.005274</td>\n",
       "      <td>-0.190321</td>\n",
       "      <td>-1.175575</td>\n",
       "      <td>0.647376</td>\n",
       "      <td>-0.221929</td>\n",
       "      <td>0.062723</td>\n",
       "      <td>0.061458</td>\n",
       "      <td>123.50</td>\n",
       "      <td>0</td>\n",
       "    </tr>\n",
       "    <tr>\n",
       "      <th>4</th>\n",
       "      <td>2.0</td>\n",
       "      <td>-1.158233</td>\n",
       "      <td>0.877737</td>\n",
       "      <td>1.548718</td>\n",
       "      <td>0.403034</td>\n",
       "      <td>-0.407193</td>\n",
       "      <td>0.095921</td>\n",
       "      <td>0.592941</td>\n",
       "      <td>-0.270533</td>\n",
       "      <td>0.817739</td>\n",
       "      <td>...</td>\n",
       "      <td>-0.009431</td>\n",
       "      <td>0.798278</td>\n",
       "      <td>-0.137458</td>\n",
       "      <td>0.141267</td>\n",
       "      <td>-0.206010</td>\n",
       "      <td>0.502292</td>\n",
       "      <td>0.219422</td>\n",
       "      <td>0.215153</td>\n",
       "      <td>69.99</td>\n",
       "      <td>0</td>\n",
       "    </tr>\n",
       "  </tbody>\n",
       "</table>\n",
       "<p>5 rows × 31 columns</p>\n",
       "</div>"
      ],
      "text/plain": [
       "   Time        V1        V2        V3        V4        V5        V6        V7  \\\n",
       "0   0.0 -1.359807 -0.072781  2.536347  1.378155 -0.338321  0.462388  0.239599   \n",
       "1   0.0  1.191857  0.266151  0.166480  0.448154  0.060018 -0.082361 -0.078803   \n",
       "2   1.0 -1.358354 -1.340163  1.773209  0.379780 -0.503198  1.800499  0.791461   \n",
       "3   1.0 -0.966272 -0.185226  1.792993 -0.863291 -0.010309  1.247203  0.237609   \n",
       "4   2.0 -1.158233  0.877737  1.548718  0.403034 -0.407193  0.095921  0.592941   \n",
       "\n",
       "         V8        V9  ...       V21       V22       V23       V24       V25  \\\n",
       "0  0.098698  0.363787  ... -0.018307  0.277838 -0.110474  0.066928  0.128539   \n",
       "1  0.085102 -0.255425  ... -0.225775 -0.638672  0.101288 -0.339846  0.167170   \n",
       "2  0.247676 -1.514654  ...  0.247998  0.771679  0.909412 -0.689281 -0.327642   \n",
       "3  0.377436 -1.387024  ... -0.108300  0.005274 -0.190321 -1.175575  0.647376   \n",
       "4 -0.270533  0.817739  ... -0.009431  0.798278 -0.137458  0.141267 -0.206010   \n",
       "\n",
       "        V26       V27       V28  Amount  Class  \n",
       "0 -0.189115  0.133558 -0.021053  149.62      0  \n",
       "1  0.125895 -0.008983  0.014724    2.69      0  \n",
       "2 -0.139097 -0.055353 -0.059752  378.66      0  \n",
       "3 -0.221929  0.062723  0.061458  123.50      0  \n",
       "4  0.502292  0.219422  0.215153   69.99      0  \n",
       "\n",
       "[5 rows x 31 columns]"
      ]
     },
     "execution_count": 46,
     "metadata": {},
     "output_type": "execute_result"
    }
   ],
   "source": [
    "# load the data saved from step 3\n",
    "df=pd.read_csv('C:\\\\Users\\\\arna_mora\\\\Springboard\\\\unit 7\\\\creditcard.csv')\n",
    "df.head()"
   ]
  },
  {
   "cell_type": "code",
   "execution_count": 47,
   "metadata": {},
   "outputs": [
    {
     "data": {
      "text/plain": [
       "Time      float64\n",
       "V1        float64\n",
       "V2        float64\n",
       "V3        float64\n",
       "V4        float64\n",
       "V5        float64\n",
       "V6        float64\n",
       "V7        float64\n",
       "V8        float64\n",
       "V9        float64\n",
       "V10       float64\n",
       "V11       float64\n",
       "V12       float64\n",
       "V13       float64\n",
       "V14       float64\n",
       "V15       float64\n",
       "V16       float64\n",
       "V17       float64\n",
       "V18       float64\n",
       "V19       float64\n",
       "V20       float64\n",
       "V21       float64\n",
       "V22       float64\n",
       "V23       float64\n",
       "V24       float64\n",
       "V25       float64\n",
       "V26       float64\n",
       "V27       float64\n",
       "V28       float64\n",
       "Amount    float64\n",
       "Class       int64\n",
       "dtype: object"
      ]
     },
     "execution_count": 47,
     "metadata": {},
     "output_type": "execute_result"
    }
   ],
   "source": [
    "df.dtypes"
   ]
  },
  {
   "cell_type": "markdown",
   "metadata": {},
   "source": [
    "Data Pre-processing"
   ]
  },
  {
   "cell_type": "markdown",
   "metadata": {},
   "source": [
    "we can see what the distribution really looks like between the fraudulent and valid transactions."
   ]
  },
  {
   "cell_type": "code",
   "execution_count": 48,
   "metadata": {
    "scrolled": true
   },
   "outputs": [
    {
     "name": "stdout",
     "output_type": "stream",
     "text": [
      "Number of valid transactions: 283253\n",
      "Number of fraudulent transactions: 473\n"
     ]
    }
   ],
   "source": [
    "valid_df = df[df['Class'] == 0]\n",
    "fraud_df = df[df['Class'] == 1]\n",
    "\n",
    "print(\"Number of valid transactions: \" + str(len(valid_df.index)))\n",
    "print(\"Number of fraudulent transactions: \" + str(len(fraud_df.index)))"
   ]
  },
  {
   "cell_type": "markdown",
   "metadata": {},
   "source": [
    "So, let’s start by equalizing the number of fraud and valid transactions. This will allow for better prediction since the model will be trained to expect fraud and not-fraud with equal chance, since it is a binary outcome.\n",
    "If we had left the distribution as is, the model would be heavily skewed towards valid, and the data from 492 frauds would have almost no effect on the model at all."
   ]
  },
  {
   "cell_type": "markdown",
   "metadata": {},
   "source": [
    "Equalization of data between fraudulent and nonfraudulent."
   ]
  },
  {
   "cell_type": "markdown",
   "metadata": {},
   "source": [
    "Now, we’re going to equalize the number of fraudulent and nonfraudulent transactions. Let’s start by extracting 473 valid transactions at random."
   ]
  },
  {
   "cell_type": "code",
   "execution_count": 49,
   "metadata": {},
   "outputs": [
    {
     "name": "stdout",
     "output_type": "stream",
     "text": [
      "Number of nonfraudulent transactions: 473\n",
      "Number of fraudulent transactions: 473\n"
     ]
    }
   ],
   "source": [
    "valid_df = df.loc[df['Class'] == 0][:473]\n",
    "equalized_df = pd.concat([fraud_df, valid_df])\n",
    "equalized_df = equalized_df.sample(frac = 1, random_state = 42)\n",
    "valid_df = equalized_df[equalized_df['Class'] == 0]\n",
    "fraud_df = equalized_df[equalized_df['Class'] == 1]\n",
    "\n",
    "print(\"Number of nonfraudulent transactions: \" + str(len(valid_df.index)))\n",
    "print(\"Number of fraudulent transactions: \" + str(len(fraud_df.index)))"
   ]
  },
  {
   "cell_type": "markdown",
   "metadata": {},
   "source": [
    "Now that we’ve equalized the number of fraudulent and non-fraudulent transactions, we should normalize all of the column values in order to best identify features in the dataset. In doing so, we minimize inaccuracies in having large values that may skew results."
   ]
  },
  {
   "cell_type": "markdown",
   "metadata": {},
   "source": [
    "Normalization is a process by which we scale values to be between specified limits, usually -1 to 1 or 0 to 1. This process is important because our machine learning models are heavily affected by differences in number size."
   ]
  },
  {
   "cell_type": "code",
   "execution_count": 60,
   "metadata": {},
   "outputs": [
    {
     "data": {
      "text/html": [
       "<div>\n",
       "<style scoped>\n",
       "    .dataframe tbody tr th:only-of-type {\n",
       "        vertical-align: middle;\n",
       "    }\n",
       "\n",
       "    .dataframe tbody tr th {\n",
       "        vertical-align: top;\n",
       "    }\n",
       "\n",
       "    .dataframe thead th {\n",
       "        text-align: right;\n",
       "    }\n",
       "</style>\n",
       "<table border=\"1\" class=\"dataframe\">\n",
       "  <thead>\n",
       "    <tr style=\"text-align: right;\">\n",
       "      <th></th>\n",
       "      <th>V1</th>\n",
       "      <th>V2</th>\n",
       "      <th>V3</th>\n",
       "      <th>V4</th>\n",
       "      <th>V5</th>\n",
       "      <th>V6</th>\n",
       "      <th>V7</th>\n",
       "      <th>V8</th>\n",
       "      <th>V9</th>\n",
       "      <th>V10</th>\n",
       "      <th>...</th>\n",
       "      <th>V20</th>\n",
       "      <th>V21</th>\n",
       "      <th>V22</th>\n",
       "      <th>V23</th>\n",
       "      <th>V24</th>\n",
       "      <th>V25</th>\n",
       "      <th>V26</th>\n",
       "      <th>V27</th>\n",
       "      <th>V28</th>\n",
       "      <th>Class</th>\n",
       "    </tr>\n",
       "  </thead>\n",
       "  <tbody>\n",
       "    <tr>\n",
       "      <th>154103</th>\n",
       "      <td>-4.221221</td>\n",
       "      <td>2.871121</td>\n",
       "      <td>-5.888716</td>\n",
       "      <td>6.890952</td>\n",
       "      <td>-3.404894</td>\n",
       "      <td>-1.154394</td>\n",
       "      <td>-7.739928</td>\n",
       "      <td>2.851363</td>\n",
       "      <td>-2.507569</td>\n",
       "      <td>-5.110728</td>\n",
       "      <td>...</td>\n",
       "      <td>-0.227882</td>\n",
       "      <td>1.620591</td>\n",
       "      <td>1.567947</td>\n",
       "      <td>-0.578007</td>\n",
       "      <td>-0.059045</td>\n",
       "      <td>-1.829169</td>\n",
       "      <td>-0.072429</td>\n",
       "      <td>0.136734</td>\n",
       "      <td>-0.599848</td>\n",
       "      <td>1</td>\n",
       "    </tr>\n",
       "    <tr>\n",
       "      <th>8803</th>\n",
       "      <td>-4.696795</td>\n",
       "      <td>2.693867</td>\n",
       "      <td>-4.475133</td>\n",
       "      <td>5.467685</td>\n",
       "      <td>-1.556758</td>\n",
       "      <td>-1.549420</td>\n",
       "      <td>-4.104215</td>\n",
       "      <td>0.553934</td>\n",
       "      <td>-1.498468</td>\n",
       "      <td>-4.594952</td>\n",
       "      <td>...</td>\n",
       "      <td>-0.158971</td>\n",
       "      <td>0.573898</td>\n",
       "      <td>-0.080163</td>\n",
       "      <td>0.318408</td>\n",
       "      <td>-0.245862</td>\n",
       "      <td>0.338238</td>\n",
       "      <td>0.032271</td>\n",
       "      <td>-1.508458</td>\n",
       "      <td>0.608075</td>\n",
       "      <td>1</td>\n",
       "    </tr>\n",
       "    <tr>\n",
       "      <th>347</th>\n",
       "      <td>1.026702</td>\n",
       "      <td>-0.661665</td>\n",
       "      <td>0.897601</td>\n",
       "      <td>0.144403</td>\n",
       "      <td>-1.105205</td>\n",
       "      <td>0.020245</td>\n",
       "      <td>-0.707267</td>\n",
       "      <td>0.195918</td>\n",
       "      <td>0.743371</td>\n",
       "      <td>-0.118939</td>\n",
       "      <td>...</td>\n",
       "      <td>0.112745</td>\n",
       "      <td>0.150661</td>\n",
       "      <td>0.322398</td>\n",
       "      <td>-0.154736</td>\n",
       "      <td>0.097655</td>\n",
       "      <td>0.174639</td>\n",
       "      <td>1.103205</td>\n",
       "      <td>-0.060709</td>\n",
       "      <td>0.016598</td>\n",
       "      <td>0</td>\n",
       "    </tr>\n",
       "    <tr>\n",
       "      <th>232390</th>\n",
       "      <td>-1.611877</td>\n",
       "      <td>-0.408410</td>\n",
       "      <td>-3.829762</td>\n",
       "      <td>6.249462</td>\n",
       "      <td>-3.360922</td>\n",
       "      <td>1.147964</td>\n",
       "      <td>1.858425</td>\n",
       "      <td>0.474858</td>\n",
       "      <td>-3.838399</td>\n",
       "      <td>-1.445375</td>\n",
       "      <td>...</td>\n",
       "      <td>2.425677</td>\n",
       "      <td>1.245582</td>\n",
       "      <td>0.616383</td>\n",
       "      <td>2.251439</td>\n",
       "      <td>-0.066096</td>\n",
       "      <td>0.538710</td>\n",
       "      <td>0.541325</td>\n",
       "      <td>-0.136243</td>\n",
       "      <td>-0.009852</td>\n",
       "      <td>1</td>\n",
       "    </tr>\n",
       "    <tr>\n",
       "      <th>17262</th>\n",
       "      <td>-27.848181</td>\n",
       "      <td>15.598193</td>\n",
       "      <td>-28.923756</td>\n",
       "      <td>6.418442</td>\n",
       "      <td>-20.346228</td>\n",
       "      <td>-4.828202</td>\n",
       "      <td>-19.210896</td>\n",
       "      <td>18.329406</td>\n",
       "      <td>-3.668735</td>\n",
       "      <td>-8.009159</td>\n",
       "      <td>...</td>\n",
       "      <td>1.697856</td>\n",
       "      <td>1.802149</td>\n",
       "      <td>-2.062934</td>\n",
       "      <td>-1.269843</td>\n",
       "      <td>0.165409</td>\n",
       "      <td>1.999499</td>\n",
       "      <td>-0.211059</td>\n",
       "      <td>1.324809</td>\n",
       "      <td>0.388090</td>\n",
       "      <td>1</td>\n",
       "    </tr>\n",
       "  </tbody>\n",
       "</table>\n",
       "<p>5 rows × 29 columns</p>\n",
       "</div>"
      ],
      "text/plain": [
       "               V1         V2         V3        V4         V5        V6  \\\n",
       "154103  -4.221221   2.871121  -5.888716  6.890952  -3.404894 -1.154394   \n",
       "8803    -4.696795   2.693867  -4.475133  5.467685  -1.556758 -1.549420   \n",
       "347      1.026702  -0.661665   0.897601  0.144403  -1.105205  0.020245   \n",
       "232390  -1.611877  -0.408410  -3.829762  6.249462  -3.360922  1.147964   \n",
       "17262  -27.848181  15.598193 -28.923756  6.418442 -20.346228 -4.828202   \n",
       "\n",
       "               V7         V8        V9       V10  ...       V20       V21  \\\n",
       "154103  -7.739928   2.851363 -2.507569 -5.110728  ... -0.227882  1.620591   \n",
       "8803    -4.104215   0.553934 -1.498468 -4.594952  ... -0.158971  0.573898   \n",
       "347     -0.707267   0.195918  0.743371 -0.118939  ...  0.112745  0.150661   \n",
       "232390   1.858425   0.474858 -3.838399 -1.445375  ...  2.425677  1.245582   \n",
       "17262  -19.210896  18.329406 -3.668735 -8.009159  ...  1.697856  1.802149   \n",
       "\n",
       "             V22       V23       V24       V25       V26       V27       V28  \\\n",
       "154103  1.567947 -0.578007 -0.059045 -1.829169 -0.072429  0.136734 -0.599848   \n",
       "8803   -0.080163  0.318408 -0.245862  0.338238  0.032271 -1.508458  0.608075   \n",
       "347     0.322398 -0.154736  0.097655  0.174639  1.103205 -0.060709  0.016598   \n",
       "232390  0.616383  2.251439 -0.066096  0.538710  0.541325 -0.136243 -0.009852   \n",
       "17262  -2.062934 -1.269843  0.165409  1.999499 -0.211059  1.324809  0.388090   \n",
       "\n",
       "        Class  \n",
       "154103      1  \n",
       "8803        1  \n",
       "347         0  \n",
       "232390      1  \n",
       "17262       1  \n",
       "\n",
       "[5 rows x 29 columns]"
      ]
     },
     "execution_count": 60,
     "metadata": {},
     "output_type": "execute_result"
    }
   ],
   "source": [
    "from sklearn.preprocessing import MinMaxScaler\n",
    "scaler = MinMaxScaler()\n",
    "scaler.fit(equalized_df['Time'].values.reshape(-1, 1))\n",
    "equalized_df['Time'] = scaler.fit_transform(equalized_df['Time'].values.reshape(-1, 1))\n",
    "scaler.fit(equalized_df['Amount'].values.reshape(-1, 1))\n",
    "equalized_df['Amount'] = scaler.fit_transform(equalized_df['Amount'].values.reshape(-1, 1))\n",
    "equalized_df = equalized_df.drop(['Time','Amount'],axis=1)\n",
    "equalized_df.head()"
   ]
  },
  {
   "cell_type": "markdown",
   "metadata": {},
   "source": [
    "Let's perform the splitting of our data into test, train, validation using train_test_split."
   ]
  },
  {
   "cell_type": "markdown",
   "metadata": {},
   "source": [
    "Our testing will take three phases: testing, training, and validation. Training is first, and it's where our model generates \"intuition\" about how to approach fraudulent and not fraudulent transactions.\n",
    "The testing phase is where we see how the model performs against data where we know the outcome.\n",
    "The validation testing is how we check that the model isn't overfitting to our specific dataset.Cross validation will be used when calculating accuracies.\n"
   ]
  },
  {
   "cell_type": "code",
   "execution_count": 54,
   "metadata": {},
   "outputs": [
    {
     "name": "stdout",
     "output_type": "stream",
     "text": [
      "Number transactions train dataset:  198608\n",
      "Number transactions test dataset:  85118\n",
      "Total number of transactions:  283726\n"
     ]
    }
   ],
   "source": [
    "training,test = train_test_split(equalized_df, train_size = 0.7, test_size = 0.3, shuffle=True)\n",
    "training, valid = train_test_split(training, train_size = 0.7, test_size =0.3, shuffle=True) \n",
    "\n",
    "training_label = training.pop('Class')\n",
    "test_label = test.pop('Class')\n",
    "valid_label = valid.pop('Class')\n",
    "\n",
    "print(\"Number transactions train dataset: \", len(X_train))\n",
    "print(\"Number transactions test dataset: \", len(X_test))\n",
    "print(\"Total number of transactions: \", len(X_train)+len(X_test))"
   ]
  },
  {
   "cell_type": "code",
   "execution_count": null,
   "metadata": {},
   "outputs": [],
   "source": []
  }
 ],
 "metadata": {
  "kernelspec": {
   "display_name": "Python 3",
   "language": "python",
   "name": "python3"
  },
  "language_info": {
   "codemirror_mode": {
    "name": "ipython",
    "version": 3
   },
   "file_extension": ".py",
   "mimetype": "text/x-python",
   "name": "python",
   "nbconvert_exporter": "python",
   "pygments_lexer": "ipython3",
   "version": "3.7.3"
  }
 },
 "nbformat": 4,
 "nbformat_minor": 2
}
